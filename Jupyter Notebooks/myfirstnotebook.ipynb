{
 "metadata": {
  "language_info": {
   "codemirror_mode": {
    "name": "ipython",
    "version": 3
   },
   "file_extension": ".py",
   "mimetype": "text/x-python",
   "name": "python",
   "nbconvert_exporter": "python",
   "pygments_lexer": "ipython3",
   "version": "3.8.2-final"
  },
  "orig_nbformat": 2,
  "kernelspec": {
   "name": "Python 3.8.2 64-bit",
   "display_name": "Python 3.8.2 64-bit",
   "metadata": {
    "interpreter": {
     "hash": "38740d3277777e2cd7c6c2cc9d8addf5118fdf3f82b1b39231fd12aeac8aee8b"
    }
   }
  }
 },
 "nbformat": 4,
 "nbformat_minor": 2,
 "cells": [
  {
   "source": [
    "import cv2\n",
    "import datetime\n",
    "\n",
    "filesdirectory = 'C:/users/mike/desktop/coding/python/opencv/files/'\n",
    "cap = cv2.VideoCapture(0)\n",
    "cv2.namedWindow('frame', cv2.WINDOW_NORMAL)\n",
    "print(cap.get(cv2.CAP_PROP_FRAME_WIDTH))\n",
    "print(cap.get(cv2.CAP_PROP_FRAME_HEIGHT))\n",
    "cap.set(3, 3000)\n",
    "cap.set(4, 3000)\n",
    "print(cap.get(3))\n",
    "print(cap.get(4))"
   ],
   "cell_type": "code",
   "metadata": {},
   "execution_count": null,
   "outputs": []
  },
  {
   "cell_type": "code",
   "execution_count": null,
   "metadata": {},
   "outputs": [],
   "source": [
    "while(cap.isOpened()):\n",
    "    ret, frame = cap.read()\n",
    "    if ret == True:\n",
    "\n",
    "       font = cv2.FONT_HERSHEY_SIMPLEX\n",
    "       text = 'Width: '+ str(cap.get(3)) + ' Height:' + str(cap.get(4))\n",
    "       datet = str(datetime.datetime.now())\n",
    "       frame = cv2.putText(frame, text, (10, 50), font, 1, (255, 0, 0), 2, cv2.LINE_AA)\n",
    "       frame = cv2.putText(frame, datet, (10, 100), font, 1, (255, 0, 0), 2, cv2.LINE_AA)\n",
    "       cv2.imshow('frame', frame)\n",
    "\n",
    "       if cv2.waitKey(1) & 0xFF == 27:\n",
    "         break\n",
    "    else:\n",
    "        break\n",
    "\n",
    "cap.release()\n",
    "cv2.destroyAllWindows()"
   ]
  }
 ]
}